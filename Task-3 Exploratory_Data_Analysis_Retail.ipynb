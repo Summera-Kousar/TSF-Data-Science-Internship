```py
import pandas as pd 
import numpy as np 
import plotly.express as px
import matplotlib.pyplot as plt
import seaborn as sns
from plotly.subplots import make_subplots
import plotly.graph_objs as go
import plotly.offline as pyo
pyo.init_notebook_mode()


import warnings
warnings.filterwarnings("ignore")
```
